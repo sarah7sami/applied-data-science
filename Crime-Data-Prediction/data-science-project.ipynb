{
 "cells": [
  {
   "cell_type": "code",
   "execution_count": null,
   "metadata": {},
   "outputs": [],
   "source": [
    "# Sarah Sami\n",
    "# Student ID: 101334588\n",
    "# Date: 2022-12-06\n",
    "# Course: Applied Data Science - Reza Dibaj\n",
    "# Description: This is the notebook for the final data science project"
   ]
  },
  {
   "cell_type": "code",
   "execution_count": null,
   "metadata": {},
   "outputs": [],
   "source": [
    "# Successfully import data into a pandas DataFrame.\t\n",
    "# Display shape and summary statistics of the data, also check if there are any NaN values in the data and deal with them if necessary.\n",
    "# Plot the data using matplotlib with at-least 2 different chart types\n",
    "# Split the data into training and testing set for validation and performance measuring.\n",
    "# Train a linear regression model using the SKLearn library, with training data\t\n",
    "# Test the trained model with testing data set by making predictions.\t\n",
    "# Check and display the performance of the model with Mean Squared Error."
   ]
  },
  {
   "cell_type": "code",
   "execution_count": 42,
   "metadata": {},
   "outputs": [
    {
     "data": {
      "text/html": [
       "<div>\n",
       "<style scoped>\n",
       "    .dataframe tbody tr th:only-of-type {\n",
       "        vertical-align: middle;\n",
       "    }\n",
       "\n",
       "    .dataframe tbody tr th {\n",
       "        vertical-align: top;\n",
       "    }\n",
       "\n",
       "    .dataframe thead th {\n",
       "        text-align: right;\n",
       "    }\n",
       "</style>\n",
       "<table border=\"1\" class=\"dataframe\">\n",
       "  <thead>\n",
       "    <tr style=\"text-align: right;\">\n",
       "      <th></th>\n",
       "      <th>X1</th>\n",
       "      <th>X2</th>\n",
       "      <th>X3</th>\n",
       "      <th>X4</th>\n",
       "      <th>X5</th>\n",
       "      <th>X6</th>\n",
       "      <th>X7</th>\n",
       "    </tr>\n",
       "  </thead>\n",
       "  <tbody>\n",
       "    <tr>\n",
       "      <th>0</th>\n",
       "      <td>478</td>\n",
       "      <td>184</td>\n",
       "      <td>40</td>\n",
       "      <td>74</td>\n",
       "      <td>11</td>\n",
       "      <td>31</td>\n",
       "      <td>20</td>\n",
       "    </tr>\n",
       "    <tr>\n",
       "      <th>1</th>\n",
       "      <td>494</td>\n",
       "      <td>213</td>\n",
       "      <td>32</td>\n",
       "      <td>72</td>\n",
       "      <td>11</td>\n",
       "      <td>43</td>\n",
       "      <td>18</td>\n",
       "    </tr>\n",
       "    <tr>\n",
       "      <th>2</th>\n",
       "      <td>643</td>\n",
       "      <td>347</td>\n",
       "      <td>57</td>\n",
       "      <td>70</td>\n",
       "      <td>18</td>\n",
       "      <td>16</td>\n",
       "      <td>16</td>\n",
       "    </tr>\n",
       "    <tr>\n",
       "      <th>3</th>\n",
       "      <td>341</td>\n",
       "      <td>565</td>\n",
       "      <td>31</td>\n",
       "      <td>71</td>\n",
       "      <td>11</td>\n",
       "      <td>25</td>\n",
       "      <td>19</td>\n",
       "    </tr>\n",
       "    <tr>\n",
       "      <th>4</th>\n",
       "      <td>773</td>\n",
       "      <td>327</td>\n",
       "      <td>67</td>\n",
       "      <td>72</td>\n",
       "      <td>9</td>\n",
       "      <td>29</td>\n",
       "      <td>24</td>\n",
       "    </tr>\n",
       "  </tbody>\n",
       "</table>\n",
       "</div>"
      ],
      "text/plain": [
       "    X1   X2  X3  X4  X5  X6  X7\n",
       "0  478  184  40  74  11  31  20\n",
       "1  494  213  32  72  11  43  18\n",
       "2  643  347  57  70  18  16  16\n",
       "3  341  565  31  71  11  25  19\n",
       "4  773  327  67  72   9  29  24"
      ]
     },
     "execution_count": 42,
     "metadata": {},
     "output_type": "execute_result"
    }
   ],
   "source": [
    "# Successfully import data into a pandas DataFrame.\t\n",
    "# first import pandas and numpy - then read the csv file\n",
    "# then print the first 5 rows of the data\n",
    "\n",
    "import pandas as pd\n",
    "import numpy as np\n",
    "\n",
    "df = pd.read_csv('Crime.csv')\n",
    "df.head()"
   ]
  },
  {
   "cell_type": "code",
   "execution_count": 43,
   "metadata": {},
   "outputs": [
    {
     "data": {
      "text/plain": [
       "(50, 7)"
      ]
     },
     "execution_count": 43,
     "metadata": {},
     "output_type": "execute_result"
    }
   ],
   "source": [
    "# Display shape and summary statistics of the data, also check if there are any NaN values in the data and deal with them if necessary.\n",
    "\n",
    "# print the shape of the data\n",
    "df.shape"
   ]
  },
  {
   "cell_type": "code",
   "execution_count": 44,
   "metadata": {},
   "outputs": [
    {
     "data": {
      "text/html": [
       "<div>\n",
       "<style scoped>\n",
       "    .dataframe tbody tr th:only-of-type {\n",
       "        vertical-align: middle;\n",
       "    }\n",
       "\n",
       "    .dataframe tbody tr th {\n",
       "        vertical-align: top;\n",
       "    }\n",
       "\n",
       "    .dataframe thead th {\n",
       "        text-align: right;\n",
       "    }\n",
       "</style>\n",
       "<table border=\"1\" class=\"dataframe\">\n",
       "  <thead>\n",
       "    <tr style=\"text-align: right;\">\n",
       "      <th></th>\n",
       "      <th>X1</th>\n",
       "      <th>X2</th>\n",
       "      <th>X3</th>\n",
       "      <th>X4</th>\n",
       "      <th>X5</th>\n",
       "      <th>X6</th>\n",
       "      <th>X7</th>\n",
       "    </tr>\n",
       "  </thead>\n",
       "  <tbody>\n",
       "    <tr>\n",
       "      <th>count</th>\n",
       "      <td>50.000000</td>\n",
       "      <td>50.000000</td>\n",
       "      <td>50.000000</td>\n",
       "      <td>50.000000</td>\n",
       "      <td>50.000000</td>\n",
       "      <td>50.000000</td>\n",
       "      <td>50.000000</td>\n",
       "    </tr>\n",
       "    <tr>\n",
       "      <th>mean</th>\n",
       "      <td>717.960000</td>\n",
       "      <td>616.180000</td>\n",
       "      <td>37.760000</td>\n",
       "      <td>58.800000</td>\n",
       "      <td>15.400000</td>\n",
       "      <td>29.900000</td>\n",
       "      <td>13.820000</td>\n",
       "    </tr>\n",
       "    <tr>\n",
       "      <th>std</th>\n",
       "      <td>293.938766</td>\n",
       "      <td>573.739175</td>\n",
       "      <td>13.820364</td>\n",
       "      <td>9.965246</td>\n",
       "      <td>6.023762</td>\n",
       "      <td>14.801062</td>\n",
       "      <td>5.157479</td>\n",
       "    </tr>\n",
       "    <tr>\n",
       "      <th>min</th>\n",
       "      <td>341.000000</td>\n",
       "      <td>29.000000</td>\n",
       "      <td>16.000000</td>\n",
       "      <td>42.000000</td>\n",
       "      <td>4.000000</td>\n",
       "      <td>7.000000</td>\n",
       "      <td>8.000000</td>\n",
       "    </tr>\n",
       "    <tr>\n",
       "      <th>25%</th>\n",
       "      <td>497.000000</td>\n",
       "      <td>230.750000</td>\n",
       "      <td>30.000000</td>\n",
       "      <td>49.000000</td>\n",
       "      <td>11.000000</td>\n",
       "      <td>21.250000</td>\n",
       "      <td>11.000000</td>\n",
       "    </tr>\n",
       "    <tr>\n",
       "      <th>50%</th>\n",
       "      <td>654.500000</td>\n",
       "      <td>454.000000</td>\n",
       "      <td>34.500000</td>\n",
       "      <td>59.000000</td>\n",
       "      <td>14.000000</td>\n",
       "      <td>25.000000</td>\n",
       "      <td>12.000000</td>\n",
       "    </tr>\n",
       "    <tr>\n",
       "      <th>75%</th>\n",
       "      <td>820.500000</td>\n",
       "      <td>822.500000</td>\n",
       "      <td>42.250000</td>\n",
       "      <td>67.000000</td>\n",
       "      <td>19.000000</td>\n",
       "      <td>34.250000</td>\n",
       "      <td>15.750000</td>\n",
       "    </tr>\n",
       "    <tr>\n",
       "      <th>max</th>\n",
       "      <td>1740.000000</td>\n",
       "      <td>3545.000000</td>\n",
       "      <td>86.000000</td>\n",
       "      <td>81.000000</td>\n",
       "      <td>34.000000</td>\n",
       "      <td>81.000000</td>\n",
       "      <td>36.000000</td>\n",
       "    </tr>\n",
       "  </tbody>\n",
       "</table>\n",
       "</div>"
      ],
      "text/plain": [
       "                X1           X2         X3         X4         X5         X6  \\\n",
       "count    50.000000    50.000000  50.000000  50.000000  50.000000  50.000000   \n",
       "mean    717.960000   616.180000  37.760000  58.800000  15.400000  29.900000   \n",
       "std     293.938766   573.739175  13.820364   9.965246   6.023762  14.801062   \n",
       "min     341.000000    29.000000  16.000000  42.000000   4.000000   7.000000   \n",
       "25%     497.000000   230.750000  30.000000  49.000000  11.000000  21.250000   \n",
       "50%     654.500000   454.000000  34.500000  59.000000  14.000000  25.000000   \n",
       "75%     820.500000   822.500000  42.250000  67.000000  19.000000  34.250000   \n",
       "max    1740.000000  3545.000000  86.000000  81.000000  34.000000  81.000000   \n",
       "\n",
       "              X7  \n",
       "count  50.000000  \n",
       "mean   13.820000  \n",
       "std     5.157479  \n",
       "min     8.000000  \n",
       "25%    11.000000  \n",
       "50%    12.000000  \n",
       "75%    15.750000  \n",
       "max    36.000000  "
      ]
     },
     "execution_count": 44,
     "metadata": {},
     "output_type": "execute_result"
    }
   ],
   "source": [
    "# print the summary statistics of the data\n",
    "df.describe()"
   ]
  },
  {
   "cell_type": "code",
   "execution_count": 45,
   "metadata": {},
   "outputs": [
    {
     "data": {
      "text/plain": [
       "X1    0\n",
       "X2    0\n",
       "X3    0\n",
       "X4    0\n",
       "X5    0\n",
       "X6    0\n",
       "X7    0\n",
       "dtype: int64"
      ]
     },
     "execution_count": 45,
     "metadata": {},
     "output_type": "execute_result"
    }
   ],
   "source": [
    "# check if there are any NaN values in the data\n",
    "df.isnull().sum()"
   ]
  },
  {
   "cell_type": "code",
   "execution_count": 46,
   "metadata": {},
   "outputs": [],
   "source": [
    "# drop the rows with NaN values\n",
    "df.dropna(inplace=True)"
   ]
  },
  {
   "cell_type": "code",
   "execution_count": 34,
   "metadata": {},
   "outputs": [
    {
     "data": {
      "text/plain": [
       "<matplotlib.collections.PathCollection at 0x14e420670>"
      ]
     },
     "execution_count": 34,
     "metadata": {},
     "output_type": "execute_result"
    },
    {
     "data": {
      "image/png": "[encoded data removed]",
      "text/plain": [
       "<Figure size 432x288 with 1 Axes>"
      ]
     },
     "metadata": {
      "needs_background": "light"
     },
     "output_type": "display_data"
    }
   ],
   "source": [
    "# Plot the data using matplotlib with at-least 2 different chart types\n",
    "\n",
    "# plot the data using matplotlib\n",
    "import matplotlib.pyplot as plt\n",
    "%matplotlib inline\n",
    "\n",
    "# plot the data using matplotlib\n",
    "# use scatter plot to plot the data - with the x-axis as the cities (index of the dataframe)\n",
    "#  and y-axis as total overall reported crime rate per 1 million residents (X1)\n",
    "plt.scatter(df.index, df['X1'])\n",
    "\n",
    "# here we can see that the data is not linearly separable - so we use scatter plot\n",
    "# also we can easily see the outliers in the data\n",
    "# city 40 for example has a very high crime rate - outlier\n",
    "# city 4 has a very low crime rate - outlier\n",
    "\n",
    "# this helps because in data analysis and predictions, it is good practice to remove outliers so that the data fed to the model is more consistent"
   ]
  },
  {
   "cell_type": "code",
   "execution_count": 30,
   "metadata": {},
   "outputs": [
    {
     "data": {
      "text/plain": [
       "<AxesSubplot:>"
      ]
     },
     "execution_count": 30,
     "metadata": {},
     "output_type": "execute_result"
    },
    {
     "data": {
      "image/png": "[encoded data removed]",
      "text/plain": [
       "<Figure size 720x432 with 1 Axes>"
      ]
     },
     "metadata": {
      "needs_background": "light"
     },
     "output_type": "display_data"
    }
   ],
   "source": [
    "# second plot of different type using matplotlib\n",
    "# X1 = total overall reported crime rate per 1 million residents.\n",
    "# X2 = reported violent crime rate per 100,000 residents\n",
    "# X3 = annual police funding in $/resident\n",
    "# X4 = % of people 25 years+ with 4 yrs. of high school\n",
    "# X5 = % of 16 to 19 year-olds not in high school and not high school graduates.\n",
    "# X6 = % of 18 to 24 year-olds in college\n",
    "# X7 = % of people 25 years+ with at least 4 years of college\n",
    "\n",
    "# plot the data using matplotlib but only show x1 and x5 ---> this way we can analyze the relationship between the two variables\n",
    "df[['X1', 'X3']].plot(kind='bar', figsize=(10, 6))\n",
    "\n",
    "# for example police funding and reported crime rate per 1 million residents are highest together\n",
    "#  so we can say that there is a positive correlation between the two variables\n"
   ]
  },
  {
   "cell_type": "code",
   "execution_count": 48,
   "metadata": {},
   "outputs": [],
   "source": [
    "# Split the data into training and testing set for validation and performance measuring.\n",
    "\n",
    "# this is everything but the first column or target variable\n",
    "x = df.loc[:, df.columns != 'X1'].values"
   ]
  },
  {
   "cell_type": "code",
   "execution_count": 49,
   "metadata": {},
   "outputs": [],
   "source": [
    "# this is the first column or target variable\n",
    "y = df.loc[:, df.columns == 'X1'].values"
   ]
  },
  {
   "cell_type": "code",
   "execution_count": 51,
   "metadata": {},
   "outputs": [],
   "source": [
    "from sklearn.model_selection import train_test_split\n",
    "\n",
    "# split the data into training and testing set\n",
    "x_train, x_test, y_train, y_test = train_test_split(x, y, test_size=0.2, random_state=0)\n",
    "\n",
    "# The random state hyperparameter in the train_test_split() function:\n",
    "#  controls the shuffling process.\n",
    "#  With random_state=None , we get different train and test sets across different executions and the shuffling process is out of control.\n",
    "#  With random_state=0 , we get the same train and test sets across different executions."
   ]
  },
  {
   "cell_type": "code",
   "execution_count": 52,
   "metadata": {},
   "outputs": [],
   "source": [
    "from sklearn.linear_model import LinearRegression\n",
    "\n",
    "# Train a linear regression model using the SKLearn library, with training data\n",
    "\n",
    "# create a linear regression object\n",
    "regressor = LinearRegression()\n",
    "\n",
    "# fit the training data to the linear regression object\n",
    "regressor.fit(x_train, y_train)\n",
    "\n",
    "# Test the trained model with testing data set by making predictions.\n",
    "\n",
    "# make predictions using the testing data\n",
    "y_pred = regressor.predict(x_test)"
   ]
  },
  {
   "cell_type": "code",
   "execution_count": 53,
   "metadata": {},
   "outputs": [
    {
     "name": "stdout",
     "output_type": "stream",
     "text": [
      "[[812.77957406]\n",
      " [370.47097375]\n",
      " [573.10810066]\n",
      " [718.22854129]\n",
      " [716.82942257]\n",
      " [856.28668313]\n",
      " [821.66790065]\n",
      " [859.40921933]\n",
      " [627.22018798]\n",
      " [609.81019762]]\n"
     ]
    }
   ],
   "source": [
    "print(y_pred)"
   ]
  },
  {
   "cell_type": "code",
   "execution_count": 54,
   "metadata": {},
   "outputs": [
    {
     "name": "stdout",
     "output_type": "stream",
     "text": [
      "28806.586771185735\n"
     ]
    }
   ],
   "source": [
    "# Check and display the performance of the model with Mean Squared Error.\n",
    "\n",
    "from sklearn.metrics import mean_squared_error\n",
    "\n",
    "# calculate the mean squared error\n",
    "mse = mean_squared_error(y_test, y_pred)\n",
    "\n",
    "# print the mean squared error\n",
    "print(mse)\n",
    "\n",
    "# this number looks huge because the mean squared error is calculated by taking the mean of the difference between the actual and predicted values and SQUARING IT "
   ]
  },
  {
   "cell_type": "code",
   "execution_count": 55,
   "metadata": {},
   "outputs": [
    {
     "name": "stdout",
     "output_type": "stream",
     "text": [
      "169.72503283601313\n"
     ]
    }
   ],
   "source": [
    "# print the root mean squared error\n",
    "print(np.sqrt(mse))"
   ]
  }
 ],
 "metadata": {
  "kernelspec": {
   "display_name": "Python 3.9.12 ('base')",
   "language": "python",
   "name": "python3"
  },
  "language_info": {
   "codemirror_mode": {
    "name": "ipython",
    "version": 3
   },
   "file_extension": ".py",
   "mimetype": "text/x-python",
   "name": "python",
   "nbconvert_exporter": "python",
   "pygments_lexer": "ipython3",
   "version": "3.9.12"
  },
  "orig_nbformat": 4,
  "vscode": {
   "interpreter": {
    "hash": "2005b1c0606921f55dc9b8a725d797fe23931b11cf5bfe23322e3501bb52246b"
   }
  }
 },
 "nbformat": 4,
 "nbformat_minor": 2
}
