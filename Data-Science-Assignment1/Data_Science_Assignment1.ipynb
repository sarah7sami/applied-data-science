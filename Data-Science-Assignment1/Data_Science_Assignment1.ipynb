{
  "nbformat": 4,
  "nbformat_minor": 0,
  "metadata": {
    "colab": {
      "provenance": [],
      "collapsed_sections": []
    },
    "kernelspec": {
      "name": "python3",
      "display_name": "Python 3"
    },
    "language_info": {
      "name": "python"
    }
  },
  "cells": [
    {
      "cell_type": "markdown",
      "source": [],
      "metadata": {
        "id": "vGCcC_PbxeZM"
      }
    },
    {
      "cell_type": "markdown",
      "source": [
        "# Sarah Sami\n",
        "\n",
        "# Assignment 01\n",
        "Student ID (Last 4 Digits): 4588"
      ],
      "metadata": {
        "id": "kuan4lZlxx6i"
      }
    },
    {
      "cell_type": "code",
      "execution_count": 2,
      "metadata": {
        "id": "zgNdoICNxd6-"
      },
      "outputs": [],
      "source": [
        "import numpy as np\n",
        "import pandas as pd"
      ]
    },
    {
      "cell_type": "code",
      "source": [
        "# 1. Import the biostats.csv file, and place it in an appropriate dataset. (0.5 point)\n",
        "biostat_data = pd.read_csv(\"/content/biostats.csv\")"
      ],
      "metadata": {
        "id": "7pOiVhJ6yw3N"
      },
      "execution_count": 3,
      "outputs": []
    },
    {
      "cell_type": "code",
      "source": [
        "# 2. Fetch the Age column of the dataset as an array, and use a variable to hold it. (0.5 point)\n",
        "# 3. Print the content of the Age column. (0.5 point)\n",
        "subject_age_array = np.array(biostat_data['Age'])\n",
        "print(subject_age_array)"
      ],
      "metadata": {
        "colab": {
          "base_uri": "https://localhost:8080/"
        },
        "id": "2h2Xq2QY0zLb",
        "outputId": "38510533-7d63-48a0-8d3d-1800ba7f777a"
      },
      "execution_count": 5,
      "outputs": [
        {
          "output_type": "stream",
          "name": "stdout",
          "text": [
            "[41 42 32 39 30 33 26 30 53 32 47 34 23 36 38 31 29 28]\n"
          ]
        }
      ]
    },
    {
      "cell_type": "code",
      "source": [
        "# 4. Calculate the average, standard deviation,\n",
        "# minimum and maximum of the array, and print the result. (0.5 point)\n",
        "average_age = subject_age_array.mean()\n",
        "average_age = np.around(average_age, decimals=2, out=None)\n",
        "print(\"Average Age = \" + str(average_age))\n",
        "\n",
        "print(\"---------\")\n",
        "\n",
        "deviation_of_age = subject_age_array.std()\n",
        "print(\"Deviation of Age = \" + str(deviation_of_age))\n",
        "\n",
        "print(\"---------\")\n",
        "\n",
        "min_age = subject_age_array.min()\n",
        "print(\"Min Age = \" + str(min_age))\n",
        "\n",
        "print(\"---------\")\n",
        "\n",
        "max_age = subject_age_array.max()\n",
        "print(\"Max Age = \" + str(max_age))\n",
        "\n",
        "print(\"---------\")"
      ],
      "metadata": {
        "colab": {
          "base_uri": "https://localhost:8080/"
        },
        "id": "j7FuTIa50zkR",
        "outputId": "9860bb61-67db-4fd4-ba6f-a213d041a806"
      },
      "execution_count": 35,
      "outputs": [
        {
          "output_type": "stream",
          "name": "stdout",
          "text": [
            "Average Age = 34.67\n",
            "---------\n",
            "Deviation of Age = 7.363574011458175\n",
            "---------\n",
            "Min Age = 23\n",
            "---------\n",
            "Max Age = 53\n",
            "---------\n"
          ]
        }
      ]
    },
    {
      "cell_type": "code",
      "source": [
        "# 5. Find the 30th percentile, median, and 70th percentile of the Age column. (0.5 point)\n",
        "print(\"30th Percentile: \" + str(np.percentile(subject_age_array, 30)))\n",
        "print(\"---------\")\n",
        "print(\"Median: \" + str(np.median(subject_age_array)))\n",
        "print(\"---------\")\n",
        "print(\"70th Percentile: \" + str(np.percentile(subject_age_array, 70)))"
      ],
      "metadata": {
        "colab": {
          "base_uri": "https://localhost:8080/"
        },
        "id": "IKI8QdaC56SL",
        "outputId": "eb15a744-ef17-475f-bc73-40a7a31f467f"
      },
      "execution_count": 36,
      "outputs": [
        {
          "output_type": "stream",
          "name": "stdout",
          "text": [
            "30th Percentile: 30.1\n",
            "---------\n",
            "Median: 32.5\n",
            "---------\n",
            "70th Percentile: 37.8\n"
          ]
        }
      ]
    },
    {
      "cell_type": "code",
      "source": [
        "# Using the Matplotlib library, please draw a histogram chart for the Age column. \n",
        "# Please, use an appropriate title, X-label, and Y-label. \n",
        "# Moreover, include your first name in the title, e.g. Age Distribution – By Sarah\n",
        "%matplotlib inline\n",
        "import matplotlib.pyplot as plt\n",
        "import seaborn; seaborn.set()\n",
        "\n",
        "plt.hist(subject_age_array)\n",
        "plt.title('Age Distribution - By Sarah')\n",
        "plt.xlabel('Age')\n",
        "plt.ylabel('Number')"
      ],
      "metadata": {
        "colab": {
          "base_uri": "https://localhost:8080/",
          "height": 319
        },
        "id": "oqYXdAjG61aJ",
        "outputId": "17ebaa04-4e4e-44f7-cdee-44c0501fc1dc"
      },
      "execution_count": 37,
      "outputs": [
        {
          "output_type": "execute_result",
          "data": {
            "text/plain": [
              "Text(0, 0.5, 'Number')"
            ]
          },
          "metadata": {},
          "execution_count": 37
        },
        {
          "output_type": "display_data",
          "data": {
            "text/plain": [
              "<Figure size 432x288 with 1 Axes>"
            ],
            "image/png": "[encoded data removed]"
          },
          "metadata": {}
        }
      ]
    },
    {
      "cell_type": "code",
      "source": [],
      "metadata": {
        "id": "umJ_tEup8WMp"
      },
      "execution_count": null,
      "outputs": []
    }
  ]
}