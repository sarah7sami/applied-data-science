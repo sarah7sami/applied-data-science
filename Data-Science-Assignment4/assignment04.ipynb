{
 "cells": [
  {
   "cell_type": "code",
   "execution_count": null,
   "metadata": {},
   "outputs": [],
   "source": [
    "# Name: Sarah Sami\n",
    "# Date: 1/12/2022\n",
    "# Course: Applied Data Science - Reza Dibaj\n",
    "# Desc: Assignment 4\n",
    "# Student ID: 101334588"
   ]
  },
  {
   "cell_type": "code",
   "execution_count": 321,
   "metadata": {},
   "outputs": [],
   "source": [
    "# 1.\tDownload the test.csv file and store it in a DataFrame named, myDF.\n",
    "import pandas as pd\n",
    "myDF = pd.read_csv('test.csv')"
   ]
  },
  {
   "cell_type": "code",
   "execution_count": 322,
   "metadata": {},
   "outputs": [
    {
     "data": {
      "text/html": [
       "<div>\n",
       "<style scoped>\n",
       "    .dataframe tbody tr th:only-of-type {\n",
       "        vertical-align: middle;\n",
       "    }\n",
       "\n",
       "    .dataframe tbody tr th {\n",
       "        vertical-align: top;\n",
       "    }\n",
       "\n",
       "    .dataframe thead th {\n",
       "        text-align: right;\n",
       "    }\n",
       "</style>\n",
       "<table border=\"1\" class=\"dataframe\">\n",
       "  <thead>\n",
       "    <tr style=\"text-align: right;\">\n",
       "      <th></th>\n",
       "      <th>ID</th>\n",
       "      <th>Range</th>\n",
       "      <th>Value</th>\n",
       "      <th>Type</th>\n",
       "      <th>Zip Code</th>\n",
       "      <th>Model</th>\n",
       "      <th>Cost</th>\n",
       "      <th>Continent</th>\n",
       "    </tr>\n",
       "  </thead>\n",
       "  <tbody>\n",
       "    <tr>\n",
       "      <th>0</th>\n",
       "      <td>10</td>\n",
       "      <td>192</td>\n",
       "      <td>50</td>\n",
       "      <td>F</td>\n",
       "      <td>NXEYEM</td>\n",
       "      <td>EX85</td>\n",
       "      <td>[56$]</td>\n",
       "      <td>Asia</td>\n",
       "    </tr>\n",
       "    <tr>\n",
       "      <th>1</th>\n",
       "      <td>20</td>\n",
       "      <td>299</td>\n",
       "      <td>21</td>\n",
       "      <td>M</td>\n",
       "      <td>VNFKZD</td>\n",
       "      <td>CT41</td>\n",
       "      <td>[18$]</td>\n",
       "      <td>Asia</td>\n",
       "    </tr>\n",
       "    <tr>\n",
       "      <th>2</th>\n",
       "      <td>30</td>\n",
       "      <td>378</td>\n",
       "      <td>28</td>\n",
       "      <td>X</td>\n",
       "      <td>IMGMFY</td>\n",
       "      <td>VN81</td>\n",
       "      <td>[90$]</td>\n",
       "      <td>North America</td>\n",
       "    </tr>\n",
       "  </tbody>\n",
       "</table>\n",
       "</div>"
      ],
      "text/plain": [
       "   ID  Range  Value Type Zip Code Model   Cost      Continent\n",
       "0  10    192     50    F   NXEYEM  EX85  [56$]           Asia\n",
       "1  20    299     21    M   VNFKZD  CT41  [18$]           Asia\n",
       "2  30    378     28    X   IMGMFY  VN81  [90$]  North America"
      ]
     },
     "execution_count": 322,
     "metadata": {},
     "output_type": "execute_result"
    }
   ],
   "source": [
    "# 2.\tShow the first three rows of the DF.\n",
    "myDF.head(3)"
   ]
  },
  {
   "cell_type": "code",
   "execution_count": 323,
   "metadata": {},
   "outputs": [
    {
     "data": {
      "text/html": [
       "<div>\n",
       "<style scoped>\n",
       "    .dataframe tbody tr th:only-of-type {\n",
       "        vertical-align: middle;\n",
       "    }\n",
       "\n",
       "    .dataframe tbody tr th {\n",
       "        vertical-align: top;\n",
       "    }\n",
       "\n",
       "    .dataframe thead th {\n",
       "        text-align: right;\n",
       "    }\n",
       "</style>\n",
       "<table border=\"1\" class=\"dataframe\">\n",
       "  <thead>\n",
       "    <tr style=\"text-align: right;\">\n",
       "      <th></th>\n",
       "      <th>ID</th>\n",
       "      <th>Range</th>\n",
       "      <th>Value</th>\n",
       "      <th>Type</th>\n",
       "      <th>Zip Code</th>\n",
       "      <th>Cost</th>\n",
       "      <th>Continent</th>\n",
       "    </tr>\n",
       "  </thead>\n",
       "  <tbody>\n",
       "    <tr>\n",
       "      <th>0</th>\n",
       "      <td>10</td>\n",
       "      <td>192</td>\n",
       "      <td>50</td>\n",
       "      <td>F</td>\n",
       "      <td>NXEYEM</td>\n",
       "      <td>[56$]</td>\n",
       "      <td>Asia</td>\n",
       "    </tr>\n",
       "    <tr>\n",
       "      <th>1</th>\n",
       "      <td>20</td>\n",
       "      <td>299</td>\n",
       "      <td>21</td>\n",
       "      <td>M</td>\n",
       "      <td>VNFKZD</td>\n",
       "      <td>[18$]</td>\n",
       "      <td>Asia</td>\n",
       "    </tr>\n",
       "    <tr>\n",
       "      <th>2</th>\n",
       "      <td>30</td>\n",
       "      <td>378</td>\n",
       "      <td>28</td>\n",
       "      <td>X</td>\n",
       "      <td>IMGMFY</td>\n",
       "      <td>[90$]</td>\n",
       "      <td>North America</td>\n",
       "    </tr>\n",
       "    <tr>\n",
       "      <th>3</th>\n",
       "      <td>40</td>\n",
       "      <td>156</td>\n",
       "      <td>44</td>\n",
       "      <td>Q</td>\n",
       "      <td>RHRHJY</td>\n",
       "      <td>[89$]</td>\n",
       "      <td>Asia</td>\n",
       "    </tr>\n",
       "    <tr>\n",
       "      <th>4</th>\n",
       "      <td>50</td>\n",
       "      <td>468</td>\n",
       "      <td>33</td>\n",
       "      <td>J</td>\n",
       "      <td>HPQCMC</td>\n",
       "      <td>[95$]</td>\n",
       "      <td>Africa</td>\n",
       "    </tr>\n",
       "    <tr>\n",
       "      <th>...</th>\n",
       "      <td>...</td>\n",
       "      <td>...</td>\n",
       "      <td>...</td>\n",
       "      <td>...</td>\n",
       "      <td>...</td>\n",
       "      <td>...</td>\n",
       "      <td>...</td>\n",
       "    </tr>\n",
       "    <tr>\n",
       "      <th>945</th>\n",
       "      <td>9460</td>\n",
       "      <td>136</td>\n",
       "      <td>12</td>\n",
       "      <td>C</td>\n",
       "      <td>HGVBPV</td>\n",
       "      <td>[51$]</td>\n",
       "      <td>South America</td>\n",
       "    </tr>\n",
       "    <tr>\n",
       "      <th>946</th>\n",
       "      <td>9470</td>\n",
       "      <td>316</td>\n",
       "      <td>46</td>\n",
       "      <td>L</td>\n",
       "      <td>SHBAUD</td>\n",
       "      <td>[33$]</td>\n",
       "      <td>North America</td>\n",
       "    </tr>\n",
       "    <tr>\n",
       "      <th>947</th>\n",
       "      <td>9480</td>\n",
       "      <td>461</td>\n",
       "      <td>46</td>\n",
       "      <td>K</td>\n",
       "      <td>PUZUVO</td>\n",
       "      <td>[12$]</td>\n",
       "      <td>Europe</td>\n",
       "    </tr>\n",
       "    <tr>\n",
       "      <th>948</th>\n",
       "      <td>9490</td>\n",
       "      <td>185</td>\n",
       "      <td>13</td>\n",
       "      <td>N</td>\n",
       "      <td>UMESZO</td>\n",
       "      <td>[39$]</td>\n",
       "      <td>North America</td>\n",
       "    </tr>\n",
       "    <tr>\n",
       "      <th>949</th>\n",
       "      <td>9500</td>\n",
       "      <td>137</td>\n",
       "      <td>10</td>\n",
       "      <td>W</td>\n",
       "      <td>JOHHVL</td>\n",
       "      <td>[10$]</td>\n",
       "      <td>South America</td>\n",
       "    </tr>\n",
       "  </tbody>\n",
       "</table>\n",
       "<p>950 rows × 7 columns</p>\n",
       "</div>"
      ],
      "text/plain": [
       "       ID  Range  Value Type Zip Code   Cost      Continent\n",
       "0      10    192     50    F   NXEYEM  [56$]           Asia\n",
       "1      20    299     21    M   VNFKZD  [18$]           Asia\n",
       "2      30    378     28    X   IMGMFY  [90$]  North America\n",
       "3      40    156     44    Q   RHRHJY  [89$]           Asia\n",
       "4      50    468     33    J   HPQCMC  [95$]         Africa\n",
       "..    ...    ...    ...  ...      ...    ...            ...\n",
       "945  9460    136     12    C   HGVBPV  [51$]  South America\n",
       "946  9470    316     46    L   SHBAUD  [33$]  North America\n",
       "947  9480    461     46    K   PUZUVO  [12$]         Europe\n",
       "948  9490    185     13    N   UMESZO  [39$]  North America\n",
       "949  9500    137     10    W   JOHHVL  [10$]  South America\n",
       "\n",
       "[950 rows x 7 columns]"
      ]
     },
     "execution_count": 323,
     "metadata": {},
     "output_type": "execute_result"
    }
   ],
   "source": [
    "# 3.\tDelete the ‘Model’ column from the DF TEMPORARILY. - not using assignment or inplace\n",
    "myDF.drop('Model', axis=1)"
   ]
  },
  {
   "cell_type": "code",
   "execution_count": 324,
   "metadata": {},
   "outputs": [],
   "source": [
    "# 4.\tDelete the ‘Model’ column permanently, using the assignment (Not inplace parameter).\n",
    "#  Is there any output when you run the permanent deletion? So, how can you make sure it is deleted?\n",
    "\n",
    "myDF = myDF.drop('Model', axis=1)"
   ]
  },
  {
   "cell_type": "code",
   "execution_count": 325,
   "metadata": {},
   "outputs": [
    {
     "data": {
      "text/html": [
       "<div>\n",
       "<style scoped>\n",
       "    .dataframe tbody tr th:only-of-type {\n",
       "        vertical-align: middle;\n",
       "    }\n",
       "\n",
       "    .dataframe tbody tr th {\n",
       "        vertical-align: top;\n",
       "    }\n",
       "\n",
       "    .dataframe thead th {\n",
       "        text-align: right;\n",
       "    }\n",
       "</style>\n",
       "<table border=\"1\" class=\"dataframe\">\n",
       "  <thead>\n",
       "    <tr style=\"text-align: right;\">\n",
       "      <th></th>\n",
       "      <th>ID</th>\n",
       "      <th>Range</th>\n",
       "      <th>Value</th>\n",
       "      <th>Type</th>\n",
       "      <th>Zip Code</th>\n",
       "      <th>Cost</th>\n",
       "      <th>Continent</th>\n",
       "    </tr>\n",
       "  </thead>\n",
       "  <tbody>\n",
       "    <tr>\n",
       "      <th>0</th>\n",
       "      <td>10</td>\n",
       "      <td>192</td>\n",
       "      <td>50</td>\n",
       "      <td>F</td>\n",
       "      <td>NXEYEM</td>\n",
       "      <td>[56$]</td>\n",
       "      <td>Asia</td>\n",
       "    </tr>\n",
       "    <tr>\n",
       "      <th>1</th>\n",
       "      <td>20</td>\n",
       "      <td>299</td>\n",
       "      <td>21</td>\n",
       "      <td>M</td>\n",
       "      <td>VNFKZD</td>\n",
       "      <td>[18$]</td>\n",
       "      <td>Asia</td>\n",
       "    </tr>\n",
       "    <tr>\n",
       "      <th>2</th>\n",
       "      <td>30</td>\n",
       "      <td>378</td>\n",
       "      <td>28</td>\n",
       "      <td>X</td>\n",
       "      <td>IMGMFY</td>\n",
       "      <td>[90$]</td>\n",
       "      <td>North America</td>\n",
       "    </tr>\n",
       "  </tbody>\n",
       "</table>\n",
       "</div>"
      ],
      "text/plain": [
       "   ID  Range  Value Type Zip Code   Cost      Continent\n",
       "0  10    192     50    F   NXEYEM  [56$]           Asia\n",
       "1  20    299     21    M   VNFKZD  [18$]           Asia\n",
       "2  30    378     28    X   IMGMFY  [90$]  North America"
      ]
     },
     "execution_count": 325,
     "metadata": {},
     "output_type": "execute_result"
    }
   ],
   "source": [
    "# 4 - continued -  So, how can you make sure it is deleted?\n",
    "myDF.head(3)"
   ]
  },
  {
   "cell_type": "code",
   "execution_count": 326,
   "metadata": {},
   "outputs": [
    {
     "data": {
      "text/html": [
       "<div>\n",
       "<style scoped>\n",
       "    .dataframe tbody tr th:only-of-type {\n",
       "        vertical-align: middle;\n",
       "    }\n",
       "\n",
       "    .dataframe tbody tr th {\n",
       "        vertical-align: top;\n",
       "    }\n",
       "\n",
       "    .dataframe thead th {\n",
       "        text-align: right;\n",
       "    }\n",
       "</style>\n",
       "<table border=\"1\" class=\"dataframe\">\n",
       "  <thead>\n",
       "    <tr style=\"text-align: right;\">\n",
       "      <th></th>\n",
       "      <th>ID</th>\n",
       "      <th>Range</th>\n",
       "      <th>Value</th>\n",
       "      <th>Type</th>\n",
       "      <th>Zip Code</th>\n",
       "      <th>Cost</th>\n",
       "      <th>Continent</th>\n",
       "    </tr>\n",
       "  </thead>\n",
       "  <tbody>\n",
       "    <tr>\n",
       "      <th>0</th>\n",
       "      <td>10</td>\n",
       "      <td>192</td>\n",
       "      <td>50</td>\n",
       "      <td>F</td>\n",
       "      <td>NXEYEM</td>\n",
       "      <td>[56$]</td>\n",
       "      <td>Asia</td>\n",
       "    </tr>\n",
       "    <tr>\n",
       "      <th>2</th>\n",
       "      <td>30</td>\n",
       "      <td>378</td>\n",
       "      <td>28</td>\n",
       "      <td>X</td>\n",
       "      <td>IMGMFY</td>\n",
       "      <td>[90$]</td>\n",
       "      <td>North America</td>\n",
       "    </tr>\n",
       "    <tr>\n",
       "      <th>4</th>\n",
       "      <td>50</td>\n",
       "      <td>468</td>\n",
       "      <td>33</td>\n",
       "      <td>J</td>\n",
       "      <td>HPQCMC</td>\n",
       "      <td>[95$]</td>\n",
       "      <td>Africa</td>\n",
       "    </tr>\n",
       "    <tr>\n",
       "      <th>6</th>\n",
       "      <td>70</td>\n",
       "      <td>327</td>\n",
       "      <td>24</td>\n",
       "      <td>F</td>\n",
       "      <td>NLVQPY</td>\n",
       "      <td>[25$]</td>\n",
       "      <td>Europe</td>\n",
       "    </tr>\n",
       "  </tbody>\n",
       "</table>\n",
       "</div>"
      ],
      "text/plain": [
       "   ID  Range  Value Type Zip Code   Cost      Continent\n",
       "0  10    192     50    F   NXEYEM  [56$]           Asia\n",
       "2  30    378     28    X   IMGMFY  [90$]  North America\n",
       "4  50    468     33    J   HPQCMC  [95$]         Africa\n",
       "6  70    327     24    F   NLVQPY  [25$]         Europe"
      ]
     },
     "execution_count": 326,
     "metadata": {},
     "output_type": "execute_result"
    }
   ],
   "source": [
    "# 5.\tNow, let’s delete rows 1, 3, and 5 permanently, using inplace. Then show the first 4 Rows of myDF.\n",
    "myDF.drop([1,3,5], axis=0, inplace=True)\n",
    "myDF.head(4)"
   ]
  },
  {
   "cell_type": "code",
   "execution_count": 327,
   "metadata": {},
   "outputs": [
    {
     "data": {
      "text/plain": [
       "297.53326293558604"
      ]
     },
     "execution_count": 327,
     "metadata": {},
     "output_type": "execute_result"
    }
   ],
   "source": [
    "# 6.\tCalculate the mean of ‘Range’ column.\n",
    "myDF['Range'].mean()"
   ]
  },
  {
   "cell_type": "code",
   "execution_count": 328,
   "metadata": {},
   "outputs": [
    {
     "data": {
      "text/plain": [
       "50"
      ]
     },
     "execution_count": 328,
     "metadata": {},
     "output_type": "execute_result"
    }
   ],
   "source": [
    "# 7.\tHow many ‘F’ do we have in the ‘Type’ column? Replace them permanently with ‘AAA’ and show the first 5 rows.\n",
    "myDF['Type'].value_counts()['F']"
   ]
  },
  {
   "cell_type": "code",
   "execution_count": 329,
   "metadata": {},
   "outputs": [],
   "source": [
    "myDF['Type'].replace('F', 'AAA', inplace=True) # 7 continued"
   ]
  },
  {
   "cell_type": "code",
   "execution_count": 330,
   "metadata": {},
   "outputs": [
    {
     "data": {
      "text/html": [
       "<div>\n",
       "<style scoped>\n",
       "    .dataframe tbody tr th:only-of-type {\n",
       "        vertical-align: middle;\n",
       "    }\n",
       "\n",
       "    .dataframe tbody tr th {\n",
       "        vertical-align: top;\n",
       "    }\n",
       "\n",
       "    .dataframe thead th {\n",
       "        text-align: right;\n",
       "    }\n",
       "</style>\n",
       "<table border=\"1\" class=\"dataframe\">\n",
       "  <thead>\n",
       "    <tr style=\"text-align: right;\">\n",
       "      <th></th>\n",
       "      <th>ID</th>\n",
       "      <th>Range</th>\n",
       "      <th>Value</th>\n",
       "      <th>Type</th>\n",
       "      <th>Zip Code</th>\n",
       "      <th>Cost</th>\n",
       "      <th>Continent</th>\n",
       "    </tr>\n",
       "  </thead>\n",
       "  <tbody>\n",
       "    <tr>\n",
       "      <th>0</th>\n",
       "      <td>10</td>\n",
       "      <td>192</td>\n",
       "      <td>50</td>\n",
       "      <td>AAA</td>\n",
       "      <td>NXEYEM</td>\n",
       "      <td>[56$]</td>\n",
       "      <td>Asia</td>\n",
       "    </tr>\n",
       "    <tr>\n",
       "      <th>2</th>\n",
       "      <td>30</td>\n",
       "      <td>378</td>\n",
       "      <td>28</td>\n",
       "      <td>X</td>\n",
       "      <td>IMGMFY</td>\n",
       "      <td>[90$]</td>\n",
       "      <td>North America</td>\n",
       "    </tr>\n",
       "    <tr>\n",
       "      <th>4</th>\n",
       "      <td>50</td>\n",
       "      <td>468</td>\n",
       "      <td>33</td>\n",
       "      <td>J</td>\n",
       "      <td>HPQCMC</td>\n",
       "      <td>[95$]</td>\n",
       "      <td>Africa</td>\n",
       "    </tr>\n",
       "    <tr>\n",
       "      <th>6</th>\n",
       "      <td>70</td>\n",
       "      <td>327</td>\n",
       "      <td>24</td>\n",
       "      <td>AAA</td>\n",
       "      <td>NLVQPY</td>\n",
       "      <td>[25$]</td>\n",
       "      <td>Europe</td>\n",
       "    </tr>\n",
       "    <tr>\n",
       "      <th>7</th>\n",
       "      <td>80</td>\n",
       "      <td>495</td>\n",
       "      <td>50</td>\n",
       "      <td>Z</td>\n",
       "      <td>DLUMAX</td>\n",
       "      <td>[70$]</td>\n",
       "      <td>Antarctica</td>\n",
       "    </tr>\n",
       "  </tbody>\n",
       "</table>\n",
       "</div>"
      ],
      "text/plain": [
       "   ID  Range  Value Type Zip Code   Cost      Continent\n",
       "0  10    192     50  AAA   NXEYEM  [56$]           Asia\n",
       "2  30    378     28    X   IMGMFY  [90$]  North America\n",
       "4  50    468     33    J   HPQCMC  [95$]         Africa\n",
       "6  70    327     24  AAA   NLVQPY  [25$]         Europe\n",
       "7  80    495     50    Z   DLUMAX  [70$]     Antarctica"
      ]
     },
     "execution_count": 330,
     "metadata": {},
     "output_type": "execute_result"
    }
   ],
   "source": [
    "myDF.head(5) # 7 continued"
   ]
  },
  {
   "cell_type": "code",
   "execution_count": 331,
   "metadata": {},
   "outputs": [
    {
     "data": {
      "text/html": [
       "<div>\n",
       "<style scoped>\n",
       "    .dataframe tbody tr th:only-of-type {\n",
       "        vertical-align: middle;\n",
       "    }\n",
       "\n",
       "    .dataframe tbody tr th {\n",
       "        vertical-align: top;\n",
       "    }\n",
       "\n",
       "    .dataframe thead th {\n",
       "        text-align: right;\n",
       "    }\n",
       "</style>\n",
       "<table border=\"1\" class=\"dataframe\">\n",
       "  <thead>\n",
       "    <tr style=\"text-align: right;\">\n",
       "      <th></th>\n",
       "      <th>ID</th>\n",
       "      <th>Range</th>\n",
       "      <th>Value</th>\n",
       "      <th>Type</th>\n",
       "      <th>Zip Code</th>\n",
       "      <th>Cost</th>\n",
       "      <th>Continent</th>\n",
       "    </tr>\n",
       "  </thead>\n",
       "  <tbody>\n",
       "    <tr>\n",
       "      <th>0</th>\n",
       "      <td>10</td>\n",
       "      <td>192</td>\n",
       "      <td>50</td>\n",
       "      <td>AAA</td>\n",
       "      <td>NXEYEM</td>\n",
       "      <td>56</td>\n",
       "      <td>Asia</td>\n",
       "    </tr>\n",
       "    <tr>\n",
       "      <th>2</th>\n",
       "      <td>30</td>\n",
       "      <td>378</td>\n",
       "      <td>28</td>\n",
       "      <td>X</td>\n",
       "      <td>IMGMFY</td>\n",
       "      <td>90</td>\n",
       "      <td>North America</td>\n",
       "    </tr>\n",
       "    <tr>\n",
       "      <th>4</th>\n",
       "      <td>50</td>\n",
       "      <td>468</td>\n",
       "      <td>33</td>\n",
       "      <td>J</td>\n",
       "      <td>HPQCMC</td>\n",
       "      <td>95</td>\n",
       "      <td>Africa</td>\n",
       "    </tr>\n",
       "    <tr>\n",
       "      <th>6</th>\n",
       "      <td>70</td>\n",
       "      <td>327</td>\n",
       "      <td>24</td>\n",
       "      <td>AAA</td>\n",
       "      <td>NLVQPY</td>\n",
       "      <td>25</td>\n",
       "      <td>Europe</td>\n",
       "    </tr>\n",
       "    <tr>\n",
       "      <th>7</th>\n",
       "      <td>80</td>\n",
       "      <td>495</td>\n",
       "      <td>50</td>\n",
       "      <td>Z</td>\n",
       "      <td>DLUMAX</td>\n",
       "      <td>70</td>\n",
       "      <td>Antarctica</td>\n",
       "    </tr>\n",
       "  </tbody>\n",
       "</table>\n",
       "</div>"
      ],
      "text/plain": [
       "   ID  Range  Value Type Zip Code Cost      Continent\n",
       "0  10    192     50  AAA   NXEYEM   56           Asia\n",
       "2  30    378     28    X   IMGMFY   90  North America\n",
       "4  50    468     33    J   HPQCMC   95         Africa\n",
       "6  70    327     24  AAA   NLVQPY   25         Europe\n",
       "7  80    495     50    Z   DLUMAX   70     Antarctica"
      ]
     },
     "execution_count": 331,
     "metadata": {},
     "output_type": "execute_result"
    }
   ],
   "source": [
    "# 8.\tGet rid of the '[' ',' '$'  ']' from the ‘Cost’ column permanently and display the first 5 rows. What is the type of ‘Cost’ column after this?\n",
    "myDF['Cost'].replace('[\\$\\[\\]]', '', regex=True, inplace=True)\n",
    "myDF.head(5)"
   ]
  },
  {
   "cell_type": "code",
   "execution_count": 332,
   "metadata": {},
   "outputs": [
    {
     "name": "stdout",
     "output_type": "stream",
     "text": [
      "object\n"
     ]
    }
   ],
   "source": [
    "# 8 continued - What is the type of ‘Cost’ column after this?\n",
    "print(myDF['Cost'].dtype)"
   ]
  },
  {
   "cell_type": "code",
   "execution_count": 333,
   "metadata": {},
   "outputs": [],
   "source": [
    "# 9.\tChange the ‘Cost’ column data type to integer and display the result.\n",
    "myDF['Cost'] = myDF['Cost'].astype(int)"
   ]
  },
  {
   "cell_type": "code",
   "execution_count": 334,
   "metadata": {},
   "outputs": [
    {
     "name": "stdout",
     "output_type": "stream",
     "text": [
      "int64\n"
     ]
    }
   ],
   "source": [
    "print(myDF['Cost'].dtype) # 9 continued"
   ]
  },
  {
   "cell_type": "code",
   "execution_count": 335,
   "metadata": {},
   "outputs": [
    {
     "data": {
      "text/plain": [
       "54.586061246040124"
      ]
     },
     "execution_count": 335,
     "metadata": {},
     "output_type": "execute_result"
    }
   ],
   "source": [
    "# 10.\tCalculate the average of ‘Cost’ column. Then, calculate the average of ‘Cost’ for each ‘Continent’.\n",
    "\n",
    "myDF['Cost'].mean()"
   ]
  },
  {
   "cell_type": "code",
   "execution_count": 336,
   "metadata": {},
   "outputs": [
    {
     "data": {
      "text/plain": [
       "Continent\n",
       "Africa           54.741259\n",
       "Antarctica       54.706897\n",
       "Asia             54.279070\n",
       "Australia        56.838028\n",
       "Europe           53.258993\n",
       "North America    55.006993\n",
       "South America    53.162963\n",
       "Name: Cost, dtype: float64"
      ]
     },
     "execution_count": 336,
     "metadata": {},
     "output_type": "execute_result"
    }
   ],
   "source": [
    "myDF.groupby('Continent')['Cost'].mean() # 10 continued"
   ]
  },
  {
   "cell_type": "code",
   "execution_count": 337,
   "metadata": {},
   "outputs": [
    {
     "data": {
      "text/html": [
       "<div>\n",
       "<style scoped>\n",
       "    .dataframe tbody tr th:only-of-type {\n",
       "        vertical-align: middle;\n",
       "    }\n",
       "\n",
       "    .dataframe tbody tr th {\n",
       "        vertical-align: top;\n",
       "    }\n",
       "\n",
       "    .dataframe thead th {\n",
       "        text-align: right;\n",
       "    }\n",
       "</style>\n",
       "<table border=\"1\" class=\"dataframe\">\n",
       "  <thead>\n",
       "    <tr style=\"text-align: right;\">\n",
       "      <th></th>\n",
       "      <th>min</th>\n",
       "      <th>max</th>\n",
       "      <th>std</th>\n",
       "    </tr>\n",
       "    <tr>\n",
       "      <th>Continent</th>\n",
       "      <th></th>\n",
       "      <th></th>\n",
       "      <th></th>\n",
       "    </tr>\n",
       "  </thead>\n",
       "  <tbody>\n",
       "    <tr>\n",
       "      <th>Africa</th>\n",
       "      <td>11</td>\n",
       "      <td>97</td>\n",
       "      <td>25.961432</td>\n",
       "    </tr>\n",
       "    <tr>\n",
       "      <th>Antarctica</th>\n",
       "      <td>10</td>\n",
       "      <td>97</td>\n",
       "      <td>24.880590</td>\n",
       "    </tr>\n",
       "    <tr>\n",
       "      <th>Asia</th>\n",
       "      <td>10</td>\n",
       "      <td>99</td>\n",
       "      <td>26.109737</td>\n",
       "    </tr>\n",
       "    <tr>\n",
       "      <th>Australia</th>\n",
       "      <td>10</td>\n",
       "      <td>97</td>\n",
       "      <td>26.057121</td>\n",
       "    </tr>\n",
       "    <tr>\n",
       "      <th>Europe</th>\n",
       "      <td>10</td>\n",
       "      <td>99</td>\n",
       "      <td>26.185054</td>\n",
       "    </tr>\n",
       "    <tr>\n",
       "      <th>North America</th>\n",
       "      <td>10</td>\n",
       "      <td>99</td>\n",
       "      <td>25.664821</td>\n",
       "    </tr>\n",
       "    <tr>\n",
       "      <th>South America</th>\n",
       "      <td>10</td>\n",
       "      <td>98</td>\n",
       "      <td>25.724780</td>\n",
       "    </tr>\n",
       "  </tbody>\n",
       "</table>\n",
       "</div>"
      ],
      "text/plain": [
       "               min  max        std\n",
       "Continent                         \n",
       "Africa          11   97  25.961432\n",
       "Antarctica      10   97  24.880590\n",
       "Asia            10   99  26.109737\n",
       "Australia       10   97  26.057121\n",
       "Europe          10   99  26.185054\n",
       "North America   10   99  25.664821\n",
       "South America   10   98  25.724780"
      ]
     },
     "execution_count": 337,
     "metadata": {},
     "output_type": "execute_result"
    }
   ],
   "source": [
    "# 11.\tCalculate the min, max and standard deviation of the ‘Cost’ column, group by each ‘Continent’, all in one command.\n",
    "myDF.groupby('Continent')['Cost'].agg(['min', 'max', 'std'])"
   ]
  },
  {
   "cell_type": "code",
   "execution_count": 338,
   "metadata": {},
   "outputs": [
    {
     "name": "stdout",
     "output_type": "stream",
     "text": [
      "       ID  Range  Value  Cost\n",
      "0      10    192     50    56\n",
      "2      30    378     28    90\n",
      "4      50    468     33    95\n",
      "6      70    327     24    25\n",
      "7      80    495     50    70\n",
      "..    ...    ...    ...   ...\n",
      "945  9460    136     12    51\n",
      "946  9470    316     46    33\n",
      "947  9480    461     46    12\n",
      "948  9490    185     13    39\n",
      "949  9500    137     10    10\n",
      "\n",
      "[947 rows x 4 columns]\n"
     ]
    }
   ],
   "source": [
    "# 12.\tCalculate the min, max and standard deviation of all numerical columns, group by each ‘Continent’, all in one command.\n",
    "import numpy as np\n",
    "print(myDF.select_dtypes(include=np.number))"
   ]
  },
  {
   "cell_type": "code",
   "execution_count": 339,
   "metadata": {},
   "outputs": [
    {
     "data": {
      "text/html": [
       "<div>\n",
       "<style scoped>\n",
       "    .dataframe tbody tr th:only-of-type {\n",
       "        vertical-align: middle;\n",
       "    }\n",
       "\n",
       "    .dataframe tbody tr th {\n",
       "        vertical-align: top;\n",
       "    }\n",
       "\n",
       "    .dataframe thead tr th {\n",
       "        text-align: left;\n",
       "    }\n",
       "\n",
       "    .dataframe thead tr:last-of-type th {\n",
       "        text-align: right;\n",
       "    }\n",
       "</style>\n",
       "<table border=\"1\" class=\"dataframe\">\n",
       "  <thead>\n",
       "    <tr>\n",
       "      <th></th>\n",
       "      <th colspan=\"3\" halign=\"left\">ID</th>\n",
       "      <th colspan=\"3\" halign=\"left\">Range</th>\n",
       "      <th colspan=\"3\" halign=\"left\">Value</th>\n",
       "      <th colspan=\"3\" halign=\"left\">Cost</th>\n",
       "    </tr>\n",
       "    <tr>\n",
       "      <th></th>\n",
       "      <th>min</th>\n",
       "      <th>max</th>\n",
       "      <th>std</th>\n",
       "      <th>min</th>\n",
       "      <th>max</th>\n",
       "      <th>std</th>\n",
       "      <th>min</th>\n",
       "      <th>max</th>\n",
       "      <th>std</th>\n",
       "      <th>min</th>\n",
       "      <th>max</th>\n",
       "      <th>std</th>\n",
       "    </tr>\n",
       "    <tr>\n",
       "      <th>Continent</th>\n",
       "      <th></th>\n",
       "      <th></th>\n",
       "      <th></th>\n",
       "      <th></th>\n",
       "      <th></th>\n",
       "      <th></th>\n",
       "      <th></th>\n",
       "      <th></th>\n",
       "      <th></th>\n",
       "      <th></th>\n",
       "      <th></th>\n",
       "      <th></th>\n",
       "    </tr>\n",
       "  </thead>\n",
       "  <tbody>\n",
       "    <tr>\n",
       "      <th>Africa</th>\n",
       "      <td>50</td>\n",
       "      <td>9450</td>\n",
       "      <td>2614.387519</td>\n",
       "      <td>100</td>\n",
       "      <td>494</td>\n",
       "      <td>118.110406</td>\n",
       "      <td>10</td>\n",
       "      <td>50</td>\n",
       "      <td>12.498931</td>\n",
       "      <td>11</td>\n",
       "      <td>97</td>\n",
       "      <td>25.961432</td>\n",
       "    </tr>\n",
       "    <tr>\n",
       "      <th>Antarctica</th>\n",
       "      <td>80</td>\n",
       "      <td>9370</td>\n",
       "      <td>2936.313786</td>\n",
       "      <td>106</td>\n",
       "      <td>495</td>\n",
       "      <td>114.401370</td>\n",
       "      <td>10</td>\n",
       "      <td>50</td>\n",
       "      <td>11.978316</td>\n",
       "      <td>10</td>\n",
       "      <td>97</td>\n",
       "      <td>24.880590</td>\n",
       "    </tr>\n",
       "    <tr>\n",
       "      <th>Asia</th>\n",
       "      <td>10</td>\n",
       "      <td>9390</td>\n",
       "      <td>2683.431665</td>\n",
       "      <td>103</td>\n",
       "      <td>499</td>\n",
       "      <td>112.047425</td>\n",
       "      <td>10</td>\n",
       "      <td>50</td>\n",
       "      <td>11.752819</td>\n",
       "      <td>10</td>\n",
       "      <td>99</td>\n",
       "      <td>26.109737</td>\n",
       "    </tr>\n",
       "    <tr>\n",
       "      <th>Australia</th>\n",
       "      <td>120</td>\n",
       "      <td>9410</td>\n",
       "      <td>2793.945560</td>\n",
       "      <td>104</td>\n",
       "      <td>496</td>\n",
       "      <td>116.374530</td>\n",
       "      <td>10</td>\n",
       "      <td>50</td>\n",
       "      <td>13.138226</td>\n",
       "      <td>10</td>\n",
       "      <td>97</td>\n",
       "      <td>26.057121</td>\n",
       "    </tr>\n",
       "    <tr>\n",
       "      <th>Europe</th>\n",
       "      <td>70</td>\n",
       "      <td>9480</td>\n",
       "      <td>2623.991892</td>\n",
       "      <td>101</td>\n",
       "      <td>500</td>\n",
       "      <td>116.808685</td>\n",
       "      <td>10</td>\n",
       "      <td>50</td>\n",
       "      <td>11.999544</td>\n",
       "      <td>10</td>\n",
       "      <td>99</td>\n",
       "      <td>26.185054</td>\n",
       "    </tr>\n",
       "    <tr>\n",
       "      <th>North America</th>\n",
       "      <td>30</td>\n",
       "      <td>9490</td>\n",
       "      <td>2841.216413</td>\n",
       "      <td>104</td>\n",
       "      <td>500</td>\n",
       "      <td>113.611333</td>\n",
       "      <td>11</td>\n",
       "      <td>50</td>\n",
       "      <td>12.319601</td>\n",
       "      <td>10</td>\n",
       "      <td>99</td>\n",
       "      <td>25.664821</td>\n",
       "    </tr>\n",
       "    <tr>\n",
       "      <th>South America</th>\n",
       "      <td>90</td>\n",
       "      <td>9500</td>\n",
       "      <td>2656.186804</td>\n",
       "      <td>104</td>\n",
       "      <td>499</td>\n",
       "      <td>117.375623</td>\n",
       "      <td>10</td>\n",
       "      <td>50</td>\n",
       "      <td>11.762450</td>\n",
       "      <td>10</td>\n",
       "      <td>98</td>\n",
       "      <td>25.724780</td>\n",
       "    </tr>\n",
       "  </tbody>\n",
       "</table>\n",
       "</div>"
      ],
      "text/plain": [
       "                ID                    Range                  Value      \\\n",
       "               min   max          std   min  max         std   min max   \n",
       "Continent                                                                \n",
       "Africa          50  9450  2614.387519   100  494  118.110406    10  50   \n",
       "Antarctica      80  9370  2936.313786   106  495  114.401370    10  50   \n",
       "Asia            10  9390  2683.431665   103  499  112.047425    10  50   \n",
       "Australia      120  9410  2793.945560   104  496  116.374530    10  50   \n",
       "Europe          70  9480  2623.991892   101  500  116.808685    10  50   \n",
       "North America   30  9490  2841.216413   104  500  113.611333    11  50   \n",
       "South America   90  9500  2656.186804   104  499  117.375623    10  50   \n",
       "\n",
       "                         Cost                 \n",
       "                     std  min max        std  \n",
       "Continent                                     \n",
       "Africa         12.498931   11  97  25.961432  \n",
       "Antarctica     11.978316   10  97  24.880590  \n",
       "Asia           11.752819   10  99  26.109737  \n",
       "Australia      13.138226   10  97  26.057121  \n",
       "Europe         11.999544   10  99  26.185054  \n",
       "North America  12.319601   10  99  25.664821  \n",
       "South America  11.762450   10  98  25.724780  "
      ]
     },
     "execution_count": 339,
     "metadata": {},
     "output_type": "execute_result"
    }
   ],
   "source": [
    "#12 continued - Calculate the min, max and standard deviation of ONLY (ID, Range, Value and Cost) columns, group by each ‘Continent’, all in one command.\n",
    "myDF.groupby('Continent')[['ID', 'Range', 'Value', 'Cost']].agg(['min', 'max', 'std'])"
   ]
  },
  {
   "cell_type": "code",
   "execution_count": 340,
   "metadata": {},
   "outputs": [
    {
     "data": {
      "text/plain": [
       "<AxesSubplot:xlabel='Continent'>"
      ]
     },
     "execution_count": 340,
     "metadata": {},
     "output_type": "execute_result"
    },
    {
     "data": {
      "image/png": "[encoded data removed]",
      "text/plain": [
       "<Figure size 432x288 with 1 Axes>"
      ]
     },
     "metadata": {
      "needs_background": "light"
     },
     "output_type": "display_data"
    }
   ],
   "source": [
    "# 13.\tIllustrate the mean of all numerical columns ONLY (ID, Range, Value and Cost), group by the ‘Continent’, using a ‘bar’ chart.\n",
    "myDF.groupby('Continent')[['ID', 'Range', 'Value', 'Cost']].mean().plot(kind='bar')\n"
   ]
  },
  {
   "cell_type": "code",
   "execution_count": 341,
   "metadata": {},
   "outputs": [
    {
     "data": {
      "text/plain": [
       "North America    143\n",
       "Africa           143\n",
       "Australia        142\n",
       "Europe           139\n",
       "South America    135\n",
       "Asia             129\n",
       "Antarctica       116\n",
       "Name: Continent, dtype: int64"
      ]
     },
     "execution_count": 341,
     "metadata": {},
     "output_type": "execute_result"
    }
   ],
   "source": [
    "# 14.\tCount the number of each continent in the ‘Continent’ column. \n",
    "myDF['Continent'].value_counts()"
   ]
  },
  {
   "cell_type": "code",
   "execution_count": 343,
   "metadata": {},
   "outputs": [
    {
     "data": {
      "text/plain": [
       "North America     15.1%\n",
       "Africa            15.1%\n",
       "Australia        14.99%\n",
       "Europe           14.68%\n",
       "South America    14.26%\n",
       "Asia             13.62%\n",
       "Antarctica       12.25%\n",
       "Name: Continent, dtype: object"
      ]
     },
     "execution_count": 343,
     "metadata": {},
     "output_type": "execute_result"
    }
   ],
   "source": [
    "# 15.\tShow the percentage of each continent in the ‘Continent’ column. \n",
    "# concat a % sign to the end of each value\n",
    "myDF['Continent'].value_counts(normalize=True).apply(lambda x: str(round(x*100, 2)) + '%')"
   ]
  },
  {
   "cell_type": "code",
   "execution_count": 344,
   "metadata": {},
   "outputs": [
    {
     "data": {
      "text/plain": [
       "array(['Asia', 'North America', 'Africa', 'Europe', 'Antarctica',\n",
       "       'South America', 'Australia'], dtype=object)"
      ]
     },
     "execution_count": 344,
     "metadata": {},
     "output_type": "execute_result"
    }
   ],
   "source": [
    "# 16.\tShow the unique values that we have in the ‘Continent’ column. Then show the number of unique values that we have in the ‘Continent’ column.\n",
    "myDF['Continent'].unique()"
   ]
  },
  {
   "cell_type": "code",
   "execution_count": 345,
   "metadata": {},
   "outputs": [
    {
     "data": {
      "text/plain": [
       "7"
      ]
     },
     "execution_count": 345,
     "metadata": {},
     "output_type": "execute_result"
    }
   ],
   "source": [
    "# 16 continued - Then show the number of unique values that we have in the ‘Continent’ column.\n",
    "myDF['Continent'].nunique()"
   ]
  },
  {
   "cell_type": "code",
   "execution_count": 346,
   "metadata": {},
   "outputs": [
    {
     "data": {
      "text/plain": [
       "56    20\n",
       "35    20\n",
       "73    18\n",
       "54    17\n",
       "97    17\n",
       "      ..\n",
       "18     5\n",
       "94     5\n",
       "22     5\n",
       "42     3\n",
       "24     2\n",
       "Name: Cost, Length: 90, dtype: int64"
      ]
     },
     "execution_count": 346,
     "metadata": {},
     "output_type": "execute_result"
    }
   ],
   "source": [
    "# 17.\tUse the value_count method for the ‘Cost’ column and describe the output as a comment in the next cell, using the # for the comment.\n",
    "myDF['Cost'].value_counts()"
   ]
  },
  {
   "cell_type": "code",
   "execution_count": 132,
   "metadata": {},
   "outputs": [],
   "source": [
    "# describing the above output - 17 continued\n",
    "# The value_counts() method returns a series of the unique values in the column and the number of times they appear in the column.\n",
    "# The output is sorted by the number of times the value appears in the column, from the highest to the lowest.\n",
    "# Cost dtype is int64, so the output is sorted numerically. If the dtype was object, the output would be sorted alphabetically."
   ]
  },
  {
   "cell_type": "code",
   "execution_count": 347,
   "metadata": {},
   "outputs": [
    {
     "data": {
      "text/plain": [
       "<AxesSubplot:ylabel='Frequency'>"
      ]
     },
     "execution_count": 347,
     "metadata": {},
     "output_type": "execute_result"
    },
    {
     "data": {
      "image/png": "[encoded data removed]",
      "text/plain": [
       "<Figure size 432x288 with 1 Axes>"
      ]
     },
     "metadata": {
      "needs_background": "light"
     },
     "output_type": "display_data"
    }
   ],
   "source": [
    "# 18.\tPlot a histogram for the ‘Cost’ column. \n",
    "myDF['Cost'].plot(kind='hist')"
   ]
  },
  {
   "cell_type": "code",
   "execution_count": 348,
   "metadata": {},
   "outputs": [
    {
     "data": {
      "text/plain": [
       "<AxesSubplot:ylabel='Frequency'>"
      ]
     },
     "execution_count": 348,
     "metadata": {},
     "output_type": "execute_result"
    },
    {
     "data": {
      "image/png": "[encoded data removed]",
      "text/plain": [
       "<Figure size 432x288 with 1 Axes>"
      ]
     },
     "metadata": {
      "needs_background": "light"
     },
     "output_type": "display_data"
    }
   ],
   "source": [
    "# 19.\tBonus question: Try to change the number of bins to 50 to show the result more accurately.\n",
    "myDF['Cost'].plot(kind='hist', bins=50)"
   ]
  },
  {
   "cell_type": "code",
   "execution_count": 349,
   "metadata": {},
   "outputs": [
    {
     "data": {
      "text/plain": [
       "9"
      ]
     },
     "execution_count": 349,
     "metadata": {},
     "output_type": "execute_result"
    }
   ],
   "source": [
    "# 20.\tHow many missing values do we have in the ‘Zip Code’ column?\n",
    "#  How many missing values in the ‘Type’ column? Provide a brief summary of null values for the entire Data Frame.\n",
    "myDF['Zip Code'].isnull().sum()\n"
   ]
  },
  {
   "cell_type": "code",
   "execution_count": 350,
   "metadata": {},
   "outputs": [
    {
     "data": {
      "text/plain": [
       "2"
      ]
     },
     "execution_count": 350,
     "metadata": {},
     "output_type": "execute_result"
    }
   ],
   "source": [
    "# 20 continued - How many missing values in the ‘Type’ column? Provide a brief summary of null values for the entire Data Frame.\n",
    "myDF['Type'].isnull().sum()"
   ]
  },
  {
   "cell_type": "code",
   "execution_count": 352,
   "metadata": {},
   "outputs": [
    {
     "data": {
      "text/plain": [
       "ID           0\n",
       "Range        0\n",
       "Value        0\n",
       "Type         2\n",
       "Zip Code     9\n",
       "Cost         0\n",
       "Continent    0\n",
       "dtype: int64"
      ]
     },
     "execution_count": 352,
     "metadata": {},
     "output_type": "execute_result"
    }
   ],
   "source": [
    "# 20 continued - Provide a brief summary of null values for the entire Data Frame.\n",
    "myDF.isnull().sum()"
   ]
  },
  {
   "cell_type": "code",
   "execution_count": 353,
   "metadata": {},
   "outputs": [
    {
     "data": {
      "text/plain": [
       "936"
      ]
     },
     "execution_count": 353,
     "metadata": {},
     "output_type": "execute_result"
    }
   ],
   "source": [
    "# 21.\tIf we drop all the rows that have ‘any’ missing value, how many rows will remain in myDF?\n",
    "myDF.dropna().shape[0]"
   ]
  },
  {
   "cell_type": "code",
   "execution_count": 139,
   "metadata": {},
   "outputs": [
    {
     "data": {
      "text/plain": [
       "AAA    50\n",
       "N      47\n",
       "Q      45\n",
       "Z      44\n",
       "C      43\n",
       "K      41\n",
       "V      41\n",
       "A      40\n",
       "Y      39\n",
       "H      39\n",
       "X      38\n",
       "G      38\n",
       "M      38\n",
       "O      36\n",
       "U      36\n",
       "L      35\n",
       "J      35\n",
       "S      34\n",
       "I      33\n",
       "W      32\n",
       "D      30\n",
       "B      29\n",
       "T      28\n",
       "P      28\n",
       "R      25\n",
       "E      24\n",
       "NaN     2\n",
       "Name: Type, dtype: int64"
      ]
     },
     "execution_count": 139,
     "metadata": {},
     "output_type": "execute_result"
    }
   ],
   "source": [
    "# 22.\tShow the statistics for the ‘Type’ column using the value_count method, including the NaN values in the list. How many missing values do we have?\n",
    "myDF['Type'].value_counts(dropna=False)\n"
   ]
  },
  {
   "cell_type": "code",
   "execution_count": 354,
   "metadata": {},
   "outputs": [],
   "source": [
    "# 23.\tReplace the ‘Type’ column missing values with ‘XXX’ and show the result again.\n",
    "myDF['Type'].fillna('XXX', inplace=True)"
   ]
  },
  {
   "cell_type": "code",
   "execution_count": 355,
   "metadata": {},
   "outputs": [
    {
     "data": {
      "text/plain": [
       "AAA    50\n",
       "N      47\n",
       "Z      44\n",
       "Q      44\n",
       "C      43\n",
       "K      41\n",
       "V      41\n",
       "A      40\n",
       "H      39\n",
       "Y      39\n",
       "G      38\n",
       "M      37\n",
       "X      37\n",
       "U      36\n",
       "O      36\n",
       "L      35\n",
       "J      35\n",
       "S      34\n",
       "I      33\n",
       "W      32\n",
       "D      30\n",
       "B      29\n",
       "T      28\n",
       "P      28\n",
       "R      25\n",
       "E      24\n",
       "XXX     2\n",
       "Name: Type, dtype: int64"
      ]
     },
     "execution_count": 355,
     "metadata": {},
     "output_type": "execute_result"
    }
   ],
   "source": [
    "myDF['Type'].value_counts(dropna=False) # 23 continued - show result"
   ]
  },
  {
   "cell_type": "code",
   "execution_count": 356,
   "metadata": {},
   "outputs": [],
   "source": [
    "# 24.\tDrop the rows that have any missing value permanently and show the number of rows after running the drop command.\n",
    "myDF.dropna(inplace=True)"
   ]
  },
  {
   "cell_type": "code",
   "execution_count": 357,
   "metadata": {},
   "outputs": [
    {
     "data": {
      "text/plain": [
       "938"
      ]
     },
     "execution_count": 357,
     "metadata": {},
     "output_type": "execute_result"
    }
   ],
   "source": [
    "# 24 continued - show the number of rows after running the drop command.\n",
    "myDF.shape[0]"
   ]
  },
  {
   "cell_type": "code",
   "execution_count": 358,
   "metadata": {},
   "outputs": [],
   "source": [
    "# 25.\tSet the ‘ID’ column as the new index and delete the index name.\n",
    "# Then show the first 5 rows of the DF. Show the value of the cell that its ID is 70 and its column header is ‘Value’.\n",
    "\n",
    "myDF.set_index('ID', inplace=True)\n",
    "\n",
    "myDF.index.name = None"
   ]
  },
  {
   "cell_type": "code",
   "execution_count": 359,
   "metadata": {},
   "outputs": [
    {
     "data": {
      "text/html": [
       "<div>\n",
       "<style scoped>\n",
       "    .dataframe tbody tr th:only-of-type {\n",
       "        vertical-align: middle;\n",
       "    }\n",
       "\n",
       "    .dataframe tbody tr th {\n",
       "        vertical-align: top;\n",
       "    }\n",
       "\n",
       "    .dataframe thead th {\n",
       "        text-align: right;\n",
       "    }\n",
       "</style>\n",
       "<table border=\"1\" class=\"dataframe\">\n",
       "  <thead>\n",
       "    <tr style=\"text-align: right;\">\n",
       "      <th></th>\n",
       "      <th>Range</th>\n",
       "      <th>Value</th>\n",
       "      <th>Type</th>\n",
       "      <th>Zip Code</th>\n",
       "      <th>Cost</th>\n",
       "      <th>Continent</th>\n",
       "    </tr>\n",
       "  </thead>\n",
       "  <tbody>\n",
       "    <tr>\n",
       "      <th>10</th>\n",
       "      <td>192</td>\n",
       "      <td>50</td>\n",
       "      <td>AAA</td>\n",
       "      <td>NXEYEM</td>\n",
       "      <td>56</td>\n",
       "      <td>Asia</td>\n",
       "    </tr>\n",
       "    <tr>\n",
       "      <th>30</th>\n",
       "      <td>378</td>\n",
       "      <td>28</td>\n",
       "      <td>X</td>\n",
       "      <td>IMGMFY</td>\n",
       "      <td>90</td>\n",
       "      <td>North America</td>\n",
       "    </tr>\n",
       "    <tr>\n",
       "      <th>50</th>\n",
       "      <td>468</td>\n",
       "      <td>33</td>\n",
       "      <td>J</td>\n",
       "      <td>HPQCMC</td>\n",
       "      <td>95</td>\n",
       "      <td>Africa</td>\n",
       "    </tr>\n",
       "    <tr>\n",
       "      <th>70</th>\n",
       "      <td>327</td>\n",
       "      <td>24</td>\n",
       "      <td>AAA</td>\n",
       "      <td>NLVQPY</td>\n",
       "      <td>25</td>\n",
       "      <td>Europe</td>\n",
       "    </tr>\n",
       "    <tr>\n",
       "      <th>80</th>\n",
       "      <td>495</td>\n",
       "      <td>50</td>\n",
       "      <td>Z</td>\n",
       "      <td>DLUMAX</td>\n",
       "      <td>70</td>\n",
       "      <td>Antarctica</td>\n",
       "    </tr>\n",
       "  </tbody>\n",
       "</table>\n",
       "</div>"
      ],
      "text/plain": [
       "    Range  Value Type Zip Code  Cost      Continent\n",
       "10    192     50  AAA   NXEYEM    56           Asia\n",
       "30    378     28    X   IMGMFY    90  North America\n",
       "50    468     33    J   HPQCMC    95         Africa\n",
       "70    327     24  AAA   NLVQPY    25         Europe\n",
       "80    495     50    Z   DLUMAX    70     Antarctica"
      ]
     },
     "execution_count": 359,
     "metadata": {},
     "output_type": "execute_result"
    }
   ],
   "source": [
    "# 25 continued - Then show the first 5 rows of the DF. Show the value of the cell that its ID is 70 and its column header is ‘Value’.\n",
    "\n",
    "myDF.head(5)"
   ]
  },
  {
   "cell_type": "code",
   "execution_count": 360,
   "metadata": {},
   "outputs": [
    {
     "data": {
      "text/plain": [
       "24"
      ]
     },
     "execution_count": 360,
     "metadata": {},
     "output_type": "execute_result"
    }
   ],
   "source": [
    "# 25 continued - Show the value of the cell that its ID is 70 and its column header is ‘Value’.\n",
    "\n",
    "myDF.loc[70, 'Value'] #using loc because ID is now the index"
   ]
  },
  {
   "cell_type": "code",
   "execution_count": 361,
   "metadata": {},
   "outputs": [
    {
     "data": {
      "text/plain": [
       "Int64Index([  10,   30,   50,   70,   80,   90,  100,  110,  120,  130,\n",
       "            ...\n",
       "            9410, 9420, 9430, 9440, 9450, 9460, 9470, 9480, 9490, 9500],\n",
       "           dtype='int64', length=938)"
      ]
     },
     "execution_count": 361,
     "metadata": {},
     "output_type": "execute_result"
    }
   ],
   "source": [
    "# 26. Show the index, columns and the shape of the current DF.\n",
    "myDF.index\n"
   ]
  },
  {
   "cell_type": "code",
   "execution_count": 362,
   "metadata": {},
   "outputs": [
    {
     "data": {
      "text/plain": [
       "Index(['Range', 'Value', 'Type', 'Zip Code', 'Cost', 'Continent'], dtype='object')"
      ]
     },
     "execution_count": 362,
     "metadata": {},
     "output_type": "execute_result"
    }
   ],
   "source": [
    "# 26 continued - Show the index, columns and the shape of the current DF.\n",
    "myDF.columns"
   ]
  },
  {
   "cell_type": "code",
   "execution_count": 363,
   "metadata": {},
   "outputs": [
    {
     "data": {
      "text/plain": [
       "(938, 6)"
      ]
     },
     "execution_count": 363,
     "metadata": {},
     "output_type": "execute_result"
    }
   ],
   "source": [
    "# 26 continued - Show the index, columns and the shape of the current DF.\n",
    "myDF.shape\n"
   ]
  },
  {
   "cell_type": "code",
   "execution_count": 364,
   "metadata": {},
   "outputs": [],
   "source": [
    "# Bring back the ID column to the DF and reset the index. Again, show the index, columns and the shape of the current DF.\n",
    "myDF.index.name = 'ID'\n",
    "myDF.reset_index(inplace=True)"
   ]
  },
  {
   "cell_type": "code",
   "execution_count": 365,
   "metadata": {},
   "outputs": [
    {
     "data": {
      "text/plain": [
       "RangeIndex(start=0, stop=938, step=1)"
      ]
     },
     "execution_count": 365,
     "metadata": {},
     "output_type": "execute_result"
    }
   ],
   "source": [
    "# 26 continued - Show the index, columns and the shape of the current DF.\n",
    "myDF.index\n"
   ]
  },
  {
   "cell_type": "code",
   "execution_count": 366,
   "metadata": {},
   "outputs": [
    {
     "data": {
      "text/plain": [
       "Index(['ID', 'Range', 'Value', 'Type', 'Zip Code', 'Cost', 'Continent'], dtype='object')"
      ]
     },
     "execution_count": 366,
     "metadata": {},
     "output_type": "execute_result"
    }
   ],
   "source": [
    "# 26 continued - Again, show the index, columns and the shape of the current DF.\n",
    "myDF.columns"
   ]
  },
  {
   "cell_type": "code",
   "execution_count": 367,
   "metadata": {},
   "outputs": [
    {
     "data": {
      "text/plain": [
       "(938, 7)"
      ]
     },
     "execution_count": 367,
     "metadata": {},
     "output_type": "execute_result"
    }
   ],
   "source": [
    "# 26 continued - Again, show the index, columns and the shape of the current DF.\n",
    "myDF.shape"
   ]
  },
  {
   "cell_type": "code",
   "execution_count": 368,
   "metadata": {},
   "outputs": [
    {
     "data": {
      "text/html": [
       "<div>\n",
       "<style scoped>\n",
       "    .dataframe tbody tr th:only-of-type {\n",
       "        vertical-align: middle;\n",
       "    }\n",
       "\n",
       "    .dataframe tbody tr th {\n",
       "        vertical-align: top;\n",
       "    }\n",
       "\n",
       "    .dataframe thead th {\n",
       "        text-align: right;\n",
       "    }\n",
       "</style>\n",
       "<table border=\"1\" class=\"dataframe\">\n",
       "  <thead>\n",
       "    <tr style=\"text-align: right;\">\n",
       "      <th></th>\n",
       "      <th>ID</th>\n",
       "      <th>Range</th>\n",
       "      <th>Value</th>\n",
       "      <th>Type</th>\n",
       "      <th>Zip Code</th>\n",
       "      <th>Cost</th>\n",
       "      <th>Continent</th>\n",
       "    </tr>\n",
       "  </thead>\n",
       "  <tbody>\n",
       "    <tr>\n",
       "      <th>0</th>\n",
       "      <td>10</td>\n",
       "      <td>192</td>\n",
       "      <td>50</td>\n",
       "      <td>AAA</td>\n",
       "      <td>NXEYEM</td>\n",
       "      <td>56</td>\n",
       "      <td>Asia</td>\n",
       "    </tr>\n",
       "    <tr>\n",
       "      <th>1</th>\n",
       "      <td>30</td>\n",
       "      <td>378</td>\n",
       "      <td>28</td>\n",
       "      <td>X</td>\n",
       "      <td>IMGMFY</td>\n",
       "      <td>90</td>\n",
       "      <td>North America</td>\n",
       "    </tr>\n",
       "    <tr>\n",
       "      <th>2</th>\n",
       "      <td>50</td>\n",
       "      <td>468</td>\n",
       "      <td>33</td>\n",
       "      <td>J</td>\n",
       "      <td>HPQCMC</td>\n",
       "      <td>95</td>\n",
       "      <td>Africa</td>\n",
       "    </tr>\n",
       "    <tr>\n",
       "      <th>3</th>\n",
       "      <td>70</td>\n",
       "      <td>327</td>\n",
       "      <td>24</td>\n",
       "      <td>AAA</td>\n",
       "      <td>NLVQPY</td>\n",
       "      <td>25</td>\n",
       "      <td>Europe</td>\n",
       "    </tr>\n",
       "    <tr>\n",
       "      <th>4</th>\n",
       "      <td>80</td>\n",
       "      <td>495</td>\n",
       "      <td>50</td>\n",
       "      <td>Z</td>\n",
       "      <td>DLUMAX</td>\n",
       "      <td>70</td>\n",
       "      <td>Antarctica</td>\n",
       "    </tr>\n",
       "  </tbody>\n",
       "</table>\n",
       "</div>"
      ],
      "text/plain": [
       "   ID  Range  Value Type Zip Code  Cost      Continent\n",
       "0  10    192     50  AAA   NXEYEM    56           Asia\n",
       "1  30    378     28    X   IMGMFY    90  North America\n",
       "2  50    468     33    J   HPQCMC    95         Africa\n",
       "3  70    327     24  AAA   NLVQPY    25         Europe\n",
       "4  80    495     50    Z   DLUMAX    70     Antarctica"
      ]
     },
     "execution_count": 368,
     "metadata": {},
     "output_type": "execute_result"
    }
   ],
   "source": [
    "# 27.\tShow the first 5 rows of the DF.\n",
    "myDF.head(5)"
   ]
  },
  {
   "cell_type": "code",
   "execution_count": 369,
   "metadata": {},
   "outputs": [
    {
     "data": {
      "text/html": [
       "<div>\n",
       "<style scoped>\n",
       "    .dataframe tbody tr th:only-of-type {\n",
       "        vertical-align: middle;\n",
       "    }\n",
       "\n",
       "    .dataframe tbody tr th {\n",
       "        vertical-align: top;\n",
       "    }\n",
       "\n",
       "    .dataframe thead th {\n",
       "        text-align: right;\n",
       "    }\n",
       "</style>\n",
       "<table border=\"1\" class=\"dataframe\">\n",
       "  <thead>\n",
       "    <tr style=\"text-align: right;\">\n",
       "      <th></th>\n",
       "      <th>ID</th>\n",
       "      <th>Range</th>\n",
       "      <th>Value</th>\n",
       "      <th>Cost</th>\n",
       "    </tr>\n",
       "  </thead>\n",
       "  <tbody>\n",
       "    <tr>\n",
       "      <th>count</th>\n",
       "      <td>938.000000</td>\n",
       "      <td>938.000000</td>\n",
       "      <td>938.000000</td>\n",
       "      <td>938.000000</td>\n",
       "    </tr>\n",
       "    <tr>\n",
       "      <th>mean</th>\n",
       "      <td>4749.104478</td>\n",
       "      <td>297.531983</td>\n",
       "      <td>29.917910</td>\n",
       "      <td>54.611940</td>\n",
       "    </tr>\n",
       "    <tr>\n",
       "      <th>std</th>\n",
       "      <td>2739.076928</td>\n",
       "      <td>115.913345</td>\n",
       "      <td>12.292447</td>\n",
       "      <td>25.742149</td>\n",
       "    </tr>\n",
       "    <tr>\n",
       "      <th>min</th>\n",
       "      <td>10.000000</td>\n",
       "      <td>100.000000</td>\n",
       "      <td>10.000000</td>\n",
       "      <td>10.000000</td>\n",
       "    </tr>\n",
       "    <tr>\n",
       "      <th>25%</th>\n",
       "      <td>2382.500000</td>\n",
       "      <td>194.000000</td>\n",
       "      <td>19.000000</td>\n",
       "      <td>33.000000</td>\n",
       "    </tr>\n",
       "    <tr>\n",
       "      <th>50%</th>\n",
       "      <td>4725.000000</td>\n",
       "      <td>295.000000</td>\n",
       "      <td>30.000000</td>\n",
       "      <td>55.000000</td>\n",
       "    </tr>\n",
       "    <tr>\n",
       "      <th>75%</th>\n",
       "      <td>7097.500000</td>\n",
       "      <td>400.000000</td>\n",
       "      <td>41.000000</td>\n",
       "      <td>76.000000</td>\n",
       "    </tr>\n",
       "    <tr>\n",
       "      <th>max</th>\n",
       "      <td>9500.000000</td>\n",
       "      <td>500.000000</td>\n",
       "      <td>50.000000</td>\n",
       "      <td>99.000000</td>\n",
       "    </tr>\n",
       "  </tbody>\n",
       "</table>\n",
       "</div>"
      ],
      "text/plain": [
       "                ID       Range       Value        Cost\n",
       "count   938.000000  938.000000  938.000000  938.000000\n",
       "mean   4749.104478  297.531983   29.917910   54.611940\n",
       "std    2739.076928  115.913345   12.292447   25.742149\n",
       "min      10.000000  100.000000   10.000000   10.000000\n",
       "25%    2382.500000  194.000000   19.000000   33.000000\n",
       "50%    4725.000000  295.000000   30.000000   55.000000\n",
       "75%    7097.500000  400.000000   41.000000   76.000000\n",
       "max    9500.000000  500.000000   50.000000   99.000000"
      ]
     },
     "execution_count": 369,
     "metadata": {},
     "output_type": "execute_result"
    }
   ],
   "source": [
    "# 27.\tUse the describe method to see the statistics of myDF and fetch the value of the first row and the third column of the result.\n",
    "myDF.describe()"
   ]
  },
  {
   "cell_type": "code",
   "execution_count": 370,
   "metadata": {},
   "outputs": [
    {
     "data": {
      "text/plain": [
       "938.0"
      ]
     },
     "execution_count": 370,
     "metadata": {},
     "output_type": "execute_result"
    }
   ],
   "source": [
    "# 27 continued - fetch the value of the first row and the third column of the result.\n",
    "myDF.describe().iloc[0, 2] # 0 is the first row, 2 is the third column => count value"
   ]
  },
  {
   "cell_type": "code",
   "execution_count": 371,
   "metadata": {},
   "outputs": [
    {
     "data": {
      "text/plain": [
       "Antarctica       115\n",
       "Asia             129\n",
       "South America    135\n",
       "Europe           138\n",
       "Africa           139\n",
       "North America    141\n",
       "Australia        141\n",
       "Name: Continent, dtype: int64"
      ]
     },
     "execution_count": 371,
     "metadata": {},
     "output_type": "execute_result"
    }
   ],
   "source": [
    "# 28.\tSort the value_counts() of the ‘Continent’ column of the DF. \n",
    "myDF['Continent'].value_counts().sort_values(ascending=True)"
   ]
  },
  {
   "cell_type": "code",
   "execution_count": 372,
   "metadata": {},
   "outputs": [
    {
     "data": {
      "text/plain": [
       "Africa           139\n",
       "Antarctica       115\n",
       "Asia             129\n",
       "Australia        141\n",
       "Europe           138\n",
       "North America    141\n",
       "South America    135\n",
       "Name: Continent, dtype: int64"
      ]
     },
     "execution_count": 372,
     "metadata": {},
     "output_type": "execute_result"
    }
   ],
   "source": [
    "# Then, sort the value_counts() of the ‘Continent’ column, based on the alphabetic order of the continents.\n",
    "myDF['Continent'].value_counts().sort_index()"
   ]
  },
  {
   "cell_type": "code",
   "execution_count": 373,
   "metadata": {},
   "outputs": [
    {
     "data": {
      "text/html": [
       "<div>\n",
       "<style scoped>\n",
       "    .dataframe tbody tr th:only-of-type {\n",
       "        vertical-align: middle;\n",
       "    }\n",
       "\n",
       "    .dataframe tbody tr th {\n",
       "        vertical-align: top;\n",
       "    }\n",
       "\n",
       "    .dataframe thead th {\n",
       "        text-align: right;\n",
       "    }\n",
       "</style>\n",
       "<table border=\"1\" class=\"dataframe\">\n",
       "  <thead>\n",
       "    <tr style=\"text-align: right;\">\n",
       "      <th></th>\n",
       "      <th>ID</th>\n",
       "      <th>Range</th>\n",
       "      <th>Value</th>\n",
       "      <th>Type</th>\n",
       "      <th>Zip Code</th>\n",
       "      <th>Cost</th>\n",
       "      <th>Continent</th>\n",
       "    </tr>\n",
       "  </thead>\n",
       "  <tbody>\n",
       "    <tr>\n",
       "      <th>1</th>\n",
       "      <td>30</td>\n",
       "      <td>378</td>\n",
       "      <td>28</td>\n",
       "      <td>X</td>\n",
       "      <td>IMGMFY</td>\n",
       "      <td>90</td>\n",
       "      <td>North America</td>\n",
       "    </tr>\n",
       "    <tr>\n",
       "      <th>3</th>\n",
       "      <td>70</td>\n",
       "      <td>327</td>\n",
       "      <td>24</td>\n",
       "      <td>AAA</td>\n",
       "      <td>NLVQPY</td>\n",
       "      <td>25</td>\n",
       "      <td>Europe</td>\n",
       "    </tr>\n",
       "    <tr>\n",
       "      <th>5</th>\n",
       "      <td>90</td>\n",
       "      <td>115</td>\n",
       "      <td>30</td>\n",
       "      <td>S</td>\n",
       "      <td>KYJUHA</td>\n",
       "      <td>17</td>\n",
       "      <td>South America</td>\n",
       "    </tr>\n",
       "    <tr>\n",
       "      <th>7</th>\n",
       "      <td>110</td>\n",
       "      <td>301</td>\n",
       "      <td>29</td>\n",
       "      <td>A</td>\n",
       "      <td>OVINZU</td>\n",
       "      <td>69</td>\n",
       "      <td>South America</td>\n",
       "    </tr>\n",
       "  </tbody>\n",
       "</table>\n",
       "</div>"
      ],
      "text/plain": [
       "    ID  Range  Value Type Zip Code  Cost      Continent\n",
       "1   30    378     28    X   IMGMFY    90  North America\n",
       "3   70    327     24  AAA   NLVQPY    25         Europe\n",
       "5   90    115     30    S   KYJUHA    17  South America\n",
       "7  110    301     29    A   OVINZU    69  South America"
      ]
     },
     "execution_count": 373,
     "metadata": {},
     "output_type": "execute_result"
    }
   ],
   "source": [
    "# 29.\tShow all the columns of the following rows in one command. ->  next code block: [1,3,5,7] and show the first 7 rows of the following columns: ‘Type’ and ‘Continent’\n",
    "myDF.loc[[1,3,5,7], :]\n"
   ]
  },
  {
   "cell_type": "code",
   "execution_count": 374,
   "metadata": {},
   "outputs": [
    {
     "data": {
      "text/html": [
       "<div>\n",
       "<style scoped>\n",
       "    .dataframe tbody tr th:only-of-type {\n",
       "        vertical-align: middle;\n",
       "    }\n",
       "\n",
       "    .dataframe tbody tr th {\n",
       "        vertical-align: top;\n",
       "    }\n",
       "\n",
       "    .dataframe thead th {\n",
       "        text-align: right;\n",
       "    }\n",
       "</style>\n",
       "<table border=\"1\" class=\"dataframe\">\n",
       "  <thead>\n",
       "    <tr style=\"text-align: right;\">\n",
       "      <th></th>\n",
       "      <th>Type</th>\n",
       "      <th>Continent</th>\n",
       "    </tr>\n",
       "  </thead>\n",
       "  <tbody>\n",
       "    <tr>\n",
       "      <th>0</th>\n",
       "      <td>AAA</td>\n",
       "      <td>Asia</td>\n",
       "    </tr>\n",
       "    <tr>\n",
       "      <th>1</th>\n",
       "      <td>X</td>\n",
       "      <td>North America</td>\n",
       "    </tr>\n",
       "    <tr>\n",
       "      <th>2</th>\n",
       "      <td>J</td>\n",
       "      <td>Africa</td>\n",
       "    </tr>\n",
       "    <tr>\n",
       "      <th>3</th>\n",
       "      <td>AAA</td>\n",
       "      <td>Europe</td>\n",
       "    </tr>\n",
       "    <tr>\n",
       "      <th>4</th>\n",
       "      <td>Z</td>\n",
       "      <td>Antarctica</td>\n",
       "    </tr>\n",
       "    <tr>\n",
       "      <th>5</th>\n",
       "      <td>S</td>\n",
       "      <td>South America</td>\n",
       "    </tr>\n",
       "    <tr>\n",
       "      <th>6</th>\n",
       "      <td>K</td>\n",
       "      <td>South America</td>\n",
       "    </tr>\n",
       "  </tbody>\n",
       "</table>\n",
       "</div>"
      ],
      "text/plain": [
       "  Type      Continent\n",
       "0  AAA           Asia\n",
       "1    X  North America\n",
       "2    J         Africa\n",
       "3  AAA         Europe\n",
       "4    Z     Antarctica\n",
       "5    S  South America\n",
       "6    K  South America"
      ]
     },
     "execution_count": 374,
     "metadata": {},
     "output_type": "execute_result"
    }
   ],
   "source": [
    "# 29 continued - show the first 7 rows of the following columns: ‘Type’ and ‘Continent’\n",
    "myDF.loc[0:6, ['Type', 'Continent']]"
   ]
  },
  {
   "cell_type": "code",
   "execution_count": 375,
   "metadata": {},
   "outputs": [
    {
     "data": {
      "text/plain": [
       "687    42\n",
       "743    37\n",
       "Name: Value, dtype: int64"
      ]
     },
     "execution_count": 375,
     "metadata": {},
     "output_type": "execute_result"
    }
   ],
   "source": [
    "# 30.\tShow the ‘Value’ of the ‘Type’ that are equal to ’XXX’.\n",
    "myDF[myDF['Type'] == 'XXX']['Value']"
   ]
  }
 ],
 "metadata": {
  "kernelspec": {
   "display_name": "Python 3.9.12 ('base')",
   "language": "python",
   "name": "python3"
  },
  "language_info": {
   "codemirror_mode": {
    "name": "ipython",
    "version": 3
   },
   "file_extension": ".py",
   "mimetype": "text/x-python",
   "name": "python",
   "nbconvert_exporter": "python",
   "pygments_lexer": "ipython3",
   "version": "3.9.12"
  },
  "orig_nbformat": 4,
  "vscode": {
   "interpreter": {
    "hash": "2005b1c0606921f55dc9b8a725d797fe23931b11cf5bfe23322e3501bb52246b"
   }
  }
 },
 "nbformat": 4,
 "nbformat_minor": 2
}
